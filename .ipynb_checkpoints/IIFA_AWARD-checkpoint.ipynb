{
 "cells": [
  {
   "cell_type": "code",
   "execution_count": null,
   "id": "294aced8",
   "metadata": {},
   "outputs": [],
   "source": [
    "from bs4 import BeautifulSoup\n",
    "import requests\n",
    "import pandas as pd"
   ]
  },
  {
   "cell_type": "code",
   "execution_count": 86,
   "id": "2662f407",
   "metadata": {},
   "outputs": [
    {
     "name": "stdout",
     "output_type": "stream",
     "text": [
      "[]\n"
     ]
    }
   ],
   "source": [
    "class IIFA_award:\n",
    "    def __init__(self):\n",
    "        self.url='https://en.wikipedia.org/wiki/International_Indian_Film_Academy_Awards'\n",
    "        self.page=requests.get(self.url)\n",
    "        self.soup=BeautifulSoup(self.page.content,'html5lib')\n",
    "        self.table_data=self.soup.find_all(class_=\"sortable wikitable\")\n",
    "        self.table_data1=self.soup.find_all('thead')\n",
    "   \n",
    "        print(self.table_data1)\n",
    "        \n",
    "    def finding_data(self):\n",
    "        \n",
    "        row=self.table_data.find(tr)\n",
    "        #print(row)\n",
    "sr=IIFA_award()\n",
    "\n"
   ]
  },
  {
   "cell_type": "code",
   "execution_count": null,
   "id": "d7673cb4",
   "metadata": {},
   "outputs": [],
   "source": []
  },
  {
   "cell_type": "code",
   "execution_count": null,
   "id": "17d6afc5",
   "metadata": {},
   "outputs": [],
   "source": []
  }
 ],
 "metadata": {
  "kernelspec": {
   "display_name": "Python 3 (ipykernel)",
   "language": "python",
   "name": "python3"
  },
  "language_info": {
   "codemirror_mode": {
    "name": "ipython",
    "version": 3
   },
   "file_extension": ".py",
   "mimetype": "text/x-python",
   "name": "python",
   "nbconvert_exporter": "python",
   "pygments_lexer": "ipython3",
   "version": "3.10.6"
  }
 },
 "nbformat": 4,
 "nbformat_minor": 5
}
