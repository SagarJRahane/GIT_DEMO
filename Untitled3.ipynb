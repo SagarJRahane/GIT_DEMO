{
 "cells": [
  {
   "cell_type": "code",
   "execution_count": 1,
   "id": "9ff78028",
   "metadata": {},
   "outputs": [
    {
     "data": {
      "text/plain": [
       "<html><head>\n",
       "<title>Access Denied</title>\n",
       "</head><body>\n",
       "<h1>Access Denied</h1>\n",
       " \n",
       "You don't have permission to access \"http://www.ambitionbox.com/list-of-companies?\" on this server.<p>\n",
       "Reference #18.26f856b8.1670688345.4bb53e04\n",
       "\n",
       "\n",
       "</p></body></html>"
      ]
     },
     "execution_count": 1,
     "metadata": {},
     "output_type": "execute_result"
    }
   ],
   "source": [
    "from bs4 import BeautifulSoup\n",
    "import pandas as pd \n",
    "import requests\n",
    "import re\n",
    "url='https://www.ambitionbox.com/list-of-companies?page=1'\n",
    "page=requests.get(url)\n",
    "soup=BeautifulSoup(page.content,'html5lib')\n",
    "soup"
   ]
  }
 ],
 "metadata": {
  "kernelspec": {
   "display_name": "Python 3 (ipykernel)",
   "language": "python",
   "name": "python3"
  },
  "language_info": {
   "codemirror_mode": {
    "name": "ipython",
    "version": 3
   },
   "file_extension": ".py",
   "mimetype": "text/x-python",
   "name": "python",
   "nbconvert_exporter": "python",
   "pygments_lexer": "ipython3",
   "version": "3.10.6"
  }
 },
 "nbformat": 4,
 "nbformat_minor": 5
}
