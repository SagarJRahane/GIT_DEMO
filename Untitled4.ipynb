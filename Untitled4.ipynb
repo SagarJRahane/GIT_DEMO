{
 "cells": [
  {
   "cell_type": "code",
   "execution_count": null,
   "id": "fd166cbd",
   "metadata": {},
   "outputs": [],
   "source": [
    "from bs4 import BeautifulSoup\n",
    "import requests\n",
    "import pandas as pd \n",
    "url='https://www.makemytrip.com/flight/search?tripType=R&itinerary=BOM-TRZ-19/12/2022_TRZ-BOM-21/12/2022&paxType=A-1_C-0_I-0&cabinClass=E&sTime=1670859475236&forwardFlowRequired=true&cmp=SEM%7CD%7CDF%7CB%7CRoute%7CDF_Route_Exact_6%7CBombay_Thiruchirapally_Exact%7CRSA%7C&mpo=&semType=&intl=false'\n",
    "page=requests.get(url)\n",
    "soup=BeautifulSoup(page.content,'lxml')\n",
    "soup"
   ]
  }
 ],
 "metadata": {
  "kernelspec": {
   "display_name": "Python 3 (ipykernel)",
   "language": "python",
   "name": "python3"
  },
  "language_info": {
   "codemirror_mode": {
    "name": "ipython",
    "version": 3
   },
   "file_extension": ".py",
   "mimetype": "text/x-python",
   "name": "python",
   "nbconvert_exporter": "python",
   "pygments_lexer": "ipython3",
   "version": "3.10.6"
  }
 },
 "nbformat": 4,
 "nbformat_minor": 5
}
