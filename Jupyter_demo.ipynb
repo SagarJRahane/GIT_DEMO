{
 "cells": [
  {
   "cell_type": "markdown",
   "id": "1820d431",
   "metadata": {},
   "source": [
    "# SAGAR RAHANE\n",
    "## SAGAR RAHANE H2\n",
    "### SAGAR RAHANE H3\n",
    "#### SAGAR RAHANE  H4\n",
    "##### SAGAR RAHANE H5\n",
    "###### SAGAR RAHANE H6"
   ]
  },
  {
   "cell_type": "markdown",
   "id": "3dde4a49",
   "metadata": {},
   "source": [
    "**Python** is a high-level, ``general-purpose`` programming __language__. Its design philosophy emphasizes code readability with the use of significant indentation.\n",
    ">Python is dynamically-typed and garbage-collected. It supports ~~multiple programming~~ paradigms, including structured (particularly procedural), object-oriented and functional programming. It is often described as a \"batteries included\" language due to its comprehensive standard library.[34][35]\n",
    "\n",
    "T<sub>1</sub>\n",
    "\n",
    "ax<sup>2</sup>\n",
    "\n",
    "- George Washington\n",
    "- John Adams\n",
    "- Thomas Jefferso\n",
    "\n",
    "1. First list item\n",
    "   - First nested list item\n",
    "     - Second nested list item\n",
    "     \n",
    "     \n",
    "- [x] #739\n",
    "- [X] https://github.com/octo-org/octo-repo/issues/740\n",
    "- [ ] Add delight to the experience when all tasks are complete :tada:\n",
    "\n",
    "@github/support What do you think about these updates?\n",
    "\n",
    "@octocat :+1: This PR looks great - it's ready to merge! :shipit:\n",
    "\n",
    "\n",
    "| Batch 1  |Batch w |\n",
    "| ------------- | ------------- |\n",
    "| Madhav  | Sagar  |\n",
    "|Tejas  | Swapnil  |\n",
    "\n",
    "\n",
    "| Command | Description |\n",
    "| --- | --- |\n",
    "| git status | List all new or modified files |\n",
    "| git diff | Show file differences that haven't been staged |\n",
    "\n",
    "\n",
    "| Left-aligned | Center-aligned | Right-aligned |\n",
    "| :---         |     :---:      |          ---: |\n",
    "| git status   | git status     | git status    |\n",
    "| git diff     | git diff       | git diff      |"
   ]
  },
  {
   "cell_type": "markdown",
   "id": "6e616b96",
   "metadata": {},
   "source": [
    "\n",
    "```mermaid\n",
    "graph TD;\n",
    "    A-->B;\n",
    "    A-->C;\n",
    "    B-->D;\n",
    "    C-->D;\n",
    "```"
   ]
  },
  {
   "cell_type": "markdown",
   "id": "115199c3",
   "metadata": {},
   "source": [
    "This sentence uses `$` delimiters to show math inline:  $\\sqrt{3x-1}+(1+x)^2$"
   ]
  }
 ],
 "metadata": {
  "kernelspec": {
   "display_name": "Python 3 (ipykernel)",
   "language": "python",
   "name": "python3"
  },
  "language_info": {
   "codemirror_mode": {
    "name": "ipython",
    "version": 3
   },
   "file_extension": ".py",
   "mimetype": "text/x-python",
   "name": "python",
   "nbconvert_exporter": "python",
   "pygments_lexer": "ipython3",
   "version": "3.10.6"
  }
 },
 "nbformat": 4,
 "nbformat_minor": 5
}
